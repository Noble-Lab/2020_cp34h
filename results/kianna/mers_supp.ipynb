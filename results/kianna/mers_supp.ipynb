{
 "cells": [
  {
   "cell_type": "code",
   "execution_count": 1,
   "metadata": {},
   "outputs": [],
   "source": [
    "from scipy.stats import chisquare, chi2_contingency\n",
    "import statsmodels.stats.multicomp\n",
    "import numpy as np\n",
    "from matplotlib import pyplot\n",
    "import matplotlib.pyplot as plt\n",
    "import random\n",
    "import pandas as pd\n",
    "import math"
   ]
  },
  {
   "cell_type": "markdown",
   "metadata": {},
   "source": [
    "# Remove homologs"
   ]
  },
  {
   "cell_type": "code",
   "execution_count": 3,
   "metadata": {},
   "outputs": [
    {
     "ename": "FileNotFoundError",
     "evalue": "[Errno 2] No such file or directory: '/path/to/homologs.txt'",
     "output_type": "error",
     "traceback": [
      "\u001b[0;31m---------------------------------------------------------------------------\u001b[0m",
      "\u001b[0;31mFileNotFoundError\u001b[0m                         Traceback (most recent call last)",
      "\u001b[0;32m<ipython-input-3-14d1277dacbf>\u001b[0m in \u001b[0;36m<module>\u001b[0;34m\u001b[0m\n\u001b[1;32m      1\u001b[0m \u001b[0mhomolog_file\u001b[0m\u001b[0;34m=\u001b[0m\u001b[0;34m'/path/to/homologs.txt'\u001b[0m\u001b[0;34m\u001b[0m\u001b[0;34m\u001b[0m\u001b[0m\n\u001b[1;32m      2\u001b[0m \u001b[0mhomologs\u001b[0m\u001b[0;34m=\u001b[0m\u001b[0;34m{\u001b[0m\u001b[0;34m}\u001b[0m\u001b[0;34m\u001b[0m\u001b[0;34m\u001b[0m\u001b[0m\n\u001b[0;32m----> 3\u001b[0;31m \u001b[0;32mwith\u001b[0m \u001b[0mopen\u001b[0m \u001b[0;34m(\u001b[0m\u001b[0mhomolog_file\u001b[0m\u001b[0;34m)\u001b[0m \u001b[0;32mas\u001b[0m \u001b[0mh\u001b[0m\u001b[0;34m:\u001b[0m\u001b[0;34m\u001b[0m\u001b[0;34m\u001b[0m\u001b[0m\n\u001b[0m\u001b[1;32m      4\u001b[0m     \u001b[0;32mfor\u001b[0m \u001b[0mcnt\u001b[0m\u001b[0;34m,\u001b[0m \u001b[0mline\u001b[0m \u001b[0;32min\u001b[0m \u001b[0menumerate\u001b[0m\u001b[0;34m(\u001b[0m\u001b[0mh\u001b[0m\u001b[0;34m)\u001b[0m\u001b[0;34m:\u001b[0m\u001b[0;34m\u001b[0m\u001b[0;34m\u001b[0m\u001b[0m\n\u001b[1;32m      5\u001b[0m         \u001b[0;32mif\u001b[0m \u001b[0;34m'Cluster'\u001b[0m \u001b[0;32min\u001b[0m \u001b[0mline\u001b[0m\u001b[0;34m:\u001b[0m\u001b[0;34m\u001b[0m\u001b[0;34m\u001b[0m\u001b[0m\n",
      "\u001b[0;31mFileNotFoundError\u001b[0m: [Errno 2] No such file or directory: '/path/to/homologs.txt'"
     ]
    }
   ],
   "source": [
    "homolog_file='/path/to/homologs.txt'\n",
    "homologs={}\n",
    "with open (homolog_file) as h:\n",
    "    for cnt, line in enumerate(h):\n",
    "        if 'Cluster' in line:\n",
    "            cname=line.split(' ')[6][0:-1]\n",
    "            homologs[cname]=[]\n",
    "        else:\n",
    "            name=line.split(' ')[1][0:-1]\n",
    "            homologs[cname].append(name)\n",
    "            \n"
   ]
  },
  {
   "cell_type": "code",
   "execution_count": null,
   "metadata": {},
   "outputs": [],
   "source": [
    "def remove_homologs(file):\n",
    "    with open(file) as f:\n",
    "        p={}\n",
    "        for cnt, line in enumerate(f):\n",
    "            if line[0] == \">\":\n",
    "                protein=line.split(' ')[0][1:]\n",
    "                for key, value in homologs.items():\n",
    "                    if protein in value:\n",
    "                        if key in p:\n",
    "                            p[key].append(protein)\n",
    "                        else:\n",
    "                            p[key]=[protein]\n",
    "    return p\n",
    "                \n",
    "                    \n"
   ]
  },
  {
   "cell_type": "markdown",
   "metadata": {},
   "source": [
    "# Count kmers"
   ]
  },
  {
   "cell_type": "code",
   "execution_count": null,
   "metadata": {},
   "outputs": [],
   "source": [
    "def countmultiple(file, mers):\n",
    "    myhomologs=remove_homologs(file)\n",
    "    d={}\n",
    "    s=0\n",
    "    write=True\n",
    "    for mer in mers:\n",
    "        with open(file) as f:\n",
    "            for cnt, line in enumerate(f):\n",
    "                if line[0] == \">\":\n",
    "                    write=True\n",
    "                    protein=line.split(' ')[0][1:]\n",
    "                    for key, value in myhomologs.items():\n",
    "                        if protein in value and protein != key:\n",
    "                            write=False\n",
    "                else:\n",
    "                    if write:\n",
    "                        end=len(line)-1-mer\n",
    "                        for i in range(0,end):\n",
    "                            j=i+mer\n",
    "                            key=line[i:j]\n",
    "                            if key in d:\n",
    "                                d[key]+=1\n",
    "                            else:\n",
    "                                d[key]=1\n",
    "                            s+=1\n",
    "    return d, s"
   ]
  },
  {
   "cell_type": "markdown",
   "metadata": {},
   "source": [
    "# Define a function that runs chi2 tests with Benjamini-Hochberg multiple testing FDR correction\n",
    "### One chi2 test per motif"
   ]
  },
  {
   "cell_type": "code",
   "execution_count": null,
   "metadata": {},
   "outputs": [],
   "source": [
    "def chi2(a, b, asum, bsum, fc):\n",
    "    a_motifs=[]\n",
    "    b_motifs=[]\n",
    "    pvals=[]\n",
    "    keys=list(set(list(a.keys())+list(b.keys())))\n",
    "    for key in keys:\n",
    "        if key in a:\n",
    "            apos=a[key]\n",
    "        else:\n",
    "            apos=0.0\n",
    "        aneg=asum-apos\n",
    "        if key in b:\n",
    "            bpos=b[key]\n",
    "        else:\n",
    "            bpos=0.0\n",
    "        bneg=bsum-bpos\n",
    "        if apos !=0.0 and bpos!=0.0:\n",
    "            table=[[apos,aneg],[bpos,bneg]]\n",
    "            #print(table)\n",
    "            stat, p, dof, expected = chi2_contingency(table)\n",
    "            pvals.append([key,p])\n",
    "            #add bh here\n",
    "    pv=list(map(list, zip(*pvals)))[1]\n",
    "    sq=statsmodels.stats.multitest.multipletests(pv, method=\"fdr_bh\")\n",
    "    i=0\n",
    "    for reject in sq[0]:\n",
    "        key=pvals[i][0]\n",
    "        if key in a:\n",
    "            apos=a[key]\n",
    "        else:\n",
    "            apos=0\n",
    "        aneg=asum-apos\n",
    "        if key in b:\n",
    "            bpos=b[key]\n",
    "        else:\n",
    "            bpos=0\n",
    "        bneg=bsum-bpos\n",
    "        if reject:\n",
    "            amore=np.log2(apos/asum)-np.log2(bpos/bsum)\n",
    "            bmore=np.log2(bpos/bsum)-np.log2(apos/asum)\n",
    "            #print(\"amore: \",amore,\"   bmore: \",bmore)\n",
    "            if amore > fc: \n",
    "                a_motifs.append([key,sq[1][i],amore])\n",
    "            elif bmore > fc: \n",
    "                b_motifs.append([key,sq[1][i], bmore])\n",
    "                #motif, adjusted p-value, fold change\n",
    "        i+=1\n",
    "    return a_motifs, b_motifs"
   ]
  },
  {
   "cell_type": "markdown",
   "metadata": {},
   "source": [
    "# Run"
   ]
  },
  {
   "cell_type": "code",
   "execution_count": null,
   "metadata": {},
   "outputs": [],
   "source": [
    "mers=[1,2,3,4]\n",
    "path='/path/to/protein_fastas/'\n",
    "\n",
    "\n",
    "s5d, s5sum=countmultiple(path+'seawater5.fa',mers)\n",
    "s10d, s10sum=countmultiple(path+'seawater10.fa',mers)\n",
    "b5d, b5sum=countmultiple(path+'brine5.fa',mers)\n",
    "b10d, b10sum=countmultiple(path+'brine10.fa',mers)\n",
    "t5d, t5sum=countmultiple(path+'all5.fa',mers)\n",
    "t10d, t10sum=countmultiple(path+'all10.fa',mers)\n",
    "#dbd, dbsum=countmultiple(path+'database_nonewline.fa',mers)\n",
    "\n",
    "\n",
    "\n",
    "nots5d, nots5sum=countmultiple(path+'not_seawater5.fa',mers)\n",
    "nots10d, nots10sum=countmultiple(path+'not_seawater10.fa',mers)\n",
    "notb5d, notb5sum=countmultiple(path+'not_brine5.fa',mers)\n",
    "notb10d, notb10sum=countmultiple(path+'not_brine10.fa',mers)\n",
    "nott5d, nott5sum=countmultiple(path+'not_all5.fa',mers)\n",
    "nott10d, nott10sum=countmultiple(path+'not_all10.fa',mers)\n",
    "\n",
    "fc=0.5\n",
    "s5n, ns5=chi2(s5d,nots5d,s5sum,nots5sum,fc)\n",
    "s10n, ns10=chi2(s10d,nots10d,s10sum,nots10sum,fc)\n",
    "b5n, nb5=chi2(b5d,notb5d,b5sum,notb5sum,fc)\n",
    "b10n, nb10=chi2(b10d,notb10d,b10sum,notb10sum,fc)\n",
    "t5n, nt5=chi2(t5d,nott5d,t5sum,nott5sum,fc)\n",
    "t10n, nt10=chi2(t10d,nott10d,t10sum,nott10sum,fc)"
   ]
  },
  {
   "cell_type": "code",
   "execution_count": null,
   "metadata": {},
   "outputs": [],
   "source": [
    "print(\"TEMPERATURE\")\n",
    "print('Motifs significant increase in -5C vs. not -5C proteins: ',len(t5n))\n",
    "print('Motifs significant increase in not -5C vs. -5C proteins: ',len(nt5))\n",
    "print('Motifs significant increase in -10C vs. not -10C proteins: ',len(t10n))\n",
    "print('Motifs significant increase in not -10C vs. -10C proteins: ',len(nt10))\n",
    "print(\"\")\n",
    "print(\"SALINITY\")\n",
    "print('Motifs significant increase in -5C+ASW vs. not -5C+ASW proteins: ',len(s5n))\n",
    "print('Motifs significant increase in not -5C_ASW vs. -5C+ASW proteins: ',len(ns5))\n",
    "print('Motifs significant increase in -5C+ASW vs. not -5C+brine proteins: ',len(b5n))\n",
    "print('Motifs significant increase in not -5C_ASW vs. -5C+brine proteins: ',len(nb5))\n",
    "print(\"\")\n",
    "print('Motifs significant increase in -10C+ASW vs. not -10C+ASW proteins: ',len(s10n))\n",
    "print('Motifs significant increase in not -10C+ASW vs. -10C+ASW proteins: ',len(ns10))\n",
    "print('Motifs significant increase in -10C+brine vs. not -10C+brine proteins: ',len(b10n))\n",
    "print('Motifs significant increase in not -10C+brine vs. -10C+brine proteins: ',len(nb10))\n",
    "\n"
   ]
  },
  {
   "cell_type": "code",
   "execution_count": null,
   "metadata": {},
   "outputs": [],
   "source": []
  },
  {
   "cell_type": "code",
   "execution_count": null,
   "metadata": {},
   "outputs": [],
   "source": [
    "# Plot amino acid composition of mers, regardless of index"
   ]
  },
  {
   "cell_type": "code",
   "execution_count": null,
   "metadata": {},
   "outputs": [],
   "source": [
    "\n",
    "def kmer_counts_no_index(kmers):\n",
    "    #d[size][index][character]:count\n",
    "    d={}\n",
    "    for kmer in kmers:\n",
    "        length=len(kmer)\n",
    "        if length not in d:\n",
    "            d[length]={}\n",
    "        for i,k in enumerate(kmer):\n",
    "#             if i not in d[length]:\n",
    "#                 d[length][i]={}\n",
    "            if k not in d[length]:\n",
    "                d[length][k] = 0\n",
    "            d[length][k] += 1\n",
    "    return d\n",
    "            \n",
    "    \n",
    "    \n",
    "s5counts_no_index=kmer_counts_no_index(list(map(list, zip(*s5n)))[0])\n",
    "b5counts_no_index=kmer_counts_no_index(list(map(list, zip(*b5n)))[0])\n",
    "t5counts_no_index=kmer_counts_no_index(list(map(list, zip(*t5n)))[0])\n",
    "t10counts_no_index=kmer_counts_no_index(list(map(list, zip(*t10n)))[0])"
   ]
  },
  {
   "cell_type": "code",
   "execution_count": null,
   "metadata": {},
   "outputs": [],
   "source": [
    "def barchart(blue,orange,number,blue_label,orange_label):\n",
    "    ind={k: v for k, v in sorted(blue[number].items(), key=lambda item: item[1], reverse=True)}.keys()\n",
    "    ind=list(ind)+list(set(orange[number].keys())-set(ind))\n",
    "    indnums=np.arange(0,len(ind))\n",
    "\n",
    "    blue_ind=[blue[number].get(key) for key in ind]\n",
    "    orange_ind=[orange[number].get(key) for key in ind]\n",
    "\n",
    "    blue_ind = [0 if x is None else x for x in blue_ind]\n",
    "    orange_ind = [0 if x is None else x for x in orange_ind]\n",
    "\n",
    "    blue_ind = [x / sum(blue[number].values()) for x in blue_ind]\n",
    "    orange_ind = [x  / sum(orange[number].values()) for x in orange_ind]\n",
    "    width = 0.35\n",
    "\n",
    "    plt.figure(figsize=(12,8))\n",
    "    plt.bar(indnums - width/2,blue_ind, width)\n",
    "    plt.bar(indnums + width/2,orange_ind, width)\n",
    "    plt.xticks(indnums,ind)\n",
    "    plt.ylabel('Frequency', fontsize=18)\n",
    "    plt.ylabel('Amino Acid', fontsize=18)\n",
    "    plt.title('Amino acid frequency among '+str(number)+'-mer polypeptides', fontsize=18)\n",
    "    plt.legend([blue_label,orange_label], fontsize=14)\n"
   ]
  },
  {
   "cell_type": "code",
   "execution_count": null,
   "metadata": {},
   "outputs": [],
   "source": [
    "barchart(t10counts_no_index,t5counts_no_index,4,'-10C','-5C')"
   ]
  },
  {
   "cell_type": "code",
   "execution_count": null,
   "metadata": {},
   "outputs": [],
   "source": [
    "barchart(t10counts_no_index,t5counts_no_index,3,'-10C','-5C')"
   ]
  },
  {
   "cell_type": "code",
   "execution_count": null,
   "metadata": {},
   "outputs": [],
   "source": [
    "barchart(b5counts_no_index,s5counts_no_index,4,'Brine','ASW')"
   ]
  },
  {
   "cell_type": "code",
   "execution_count": null,
   "metadata": {},
   "outputs": [],
   "source": [
    "barchart(b5counts_no_index,s5counts_no_index,3,'Brine','ASW')"
   ]
  }
 ],
 "metadata": {
  "kernelspec": {
   "display_name": "Python 3",
   "language": "python",
   "name": "python3"
  },
  "language_info": {
   "codemirror_mode": {
    "name": "ipython",
    "version": 3
   },
   "file_extension": ".py",
   "mimetype": "text/x-python",
   "name": "python",
   "nbconvert_exporter": "python",
   "pygments_lexer": "ipython3",
   "version": "3.7.4"
  }
 },
 "nbformat": 4,
 "nbformat_minor": 2
}
